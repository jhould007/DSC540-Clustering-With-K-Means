{
 "cells": [
  {
   "cell_type": "markdown",
   "id": "17a9f1bc",
   "metadata": {},
   "source": [
    "# Clustering with k-Means\n",
    "By Josh Houlding\n",
    "\n",
    "Clustering is an unsupervised machine learning method used for grouping similar data in datasets so it can be easily understood and manipulated. One such algorithm, k-means, takes data and learns how it can be grouped. Some real-world examples of its use include fake news identification, fantasy league stat analysis, insurance fraud detection, or customer/market segmentation.\n",
    "\n",
    "# Part 1\n",
    "\n",
    "To perform a k-means analysis using the k-means algorithm, complete the following:\n",
    "1. Access the \"UCI Machine Learning Repository,\" located in the topic Resources. Note: There are about 120 data sets that are suitable for use in a clustering task. For this part of the exercise, you must choose two of these datasets, provided they include at least 10 attributes and 10,000 instances.\n",
    "2. Ensure that the datasets are suitable for clustering using these methods.\n",
    "3. You may search for data in other repositories, such as Data.gov or Kaggle.\n",
    "\n",
    "# Part 2\n",
    "\n",
    "For your selected datasets, build a K-means clustering model.\n",
    "1. Start by choosing the number of clusters. Discuss how you would find the optimal number of clusters that best fits the dataset.\n",
    "2. Randomly pick k centroids \"not necessarily from your dataset\" (or points that will be the center of your clusters) in d-space. Try to make them near the data but different from one another.\n",
    "3. Assign each data point to the closest centroid. This will form your k clusters. Apply the Euclidian distance to form your clusters.\n",
    "4. Move the centroids to the average location of the data points assigned to it.\n",
    "5. Repeat the preceding two steps until the assignments do not change or change very little.\n",
    "\n",
    "<b>Note:</b> A key objective is to minimize the variation within the clusters defined as <b>the sum of squared Euclidean distances between items and the corresponding centroid.</b>\n",
    "\n",
    "# Part 3\n",
    "\n",
    "1. Explain the dataset and the type of information you wish to gain by applying a clustering method.\n",
    "2. Explain the k-means algorithm and how you will be using it in your analysis (list the steps, the intuition behind the mathematical representation, and address its assumptions).\n",
    "3. Import the necessary libraries, then read the dataset into a data frame and perform initial statistical exploration.\n",
    "4. Clean the data and address unusual phenomena (e.g., outliers); use illustrative diagrams and plots and explain them.\n",
    "5. Formulate two questions that can be answered by performing a clustering analysis using the k-means.\n",
    "6. Use the elbow method to find the optimal number of clusters for your chosen dataset. Justify your chosen (final) value of k.\n",
    "7. Perform k-means analysis. Explain the intuition behind each mathematical step.\n",
    "8. Interpret the results in the context of the questions you asked.\n",
    "9. Discuss how you minimized the variation within the clusters.\n",
    "10. Validate your model. Then, explain the results.\n",
    "11. Include all mathematical formulas used and graphs representing the final outcomes."
   ]
  },
  {
   "cell_type": "markdown",
   "id": "cfa47e25",
   "metadata": {},
   "source": [
    "# <span style=\"color:#8080ff\">Part 1</span>\n",
    "\n",
    "# Tasks 1.1-1.3\n",
    "<b>1.1:</b> <i>Access the \"UCI Machine Learning Repository,\" located in the topic Resources. Note: There are about 120 data sets that are suitable for use in a clustering task. For this part of the exercise, you must choose two of these datasets, provided they include at least 10 attributes and 10,000 instances.</i> <br>\n",
    "<b>1.2:</b> <i>Ensure that the datasets are suitable for clustering using these methods.</i> <br>\n",
    "<b>1.3:</b> <i>You may search for data in other repositories, such as Data.gov or Kaggle.</i>\n",
    "\n",
    "<b>Dataset Selected:</b> \"Online Shoppers Purchasing Intention Dataset\" (UCI Machine Learning Repository) <br>\n",
    "<b>Basic Description:</b> Dataset of online session metrics that can be used to predict a shopper's intent (whether they plan to make a purchase or not).<br>\n",
    "<b>Link:</b> https://archive.ics.uci.edu/dataset/468/online+shoppers+purchasing+intention+dataset\n",
    "\n",
    "# <span style=\"color:#1f6635\">Part 2</span>\n",
    "\n",
    "# Task 2.1\n",
    "<i>Start by choosing the number of clusters. Discuss how you would find the optimal number of clusters that best fits the dataset.</i>\n",
    "\n",
    "Choosing the optimal number of clusters is essential for maximizing the effectiveness of a k-means clustering algorithm, as having too few leads to underfitting, where the true underlying structure and granularity of the data is not captured properly, and having too many leads to overfitting, where the model fits to noise in the training dataset and loses generalizability.\n",
    "\n",
    "<b>Necessary Terminology</b> <br>\n",
    "* <b>k:</b> The number of clusters. \n",
    "* <b>Centroid:</b> The mean of a cluster. \n",
    "* <b>Within-Cluster Sum of Squares (WCSS):</b> The sum of squared distances between data points and the centroids of their clusters. \n",
    "\n",
    "One common way the optimal cluster count can be found is by using the <b>elbow method</b>, where the WCSS is calculated for each value in a range of k-values (eg. 1 to 10), and each (k, WCSS) point is graphed. Then, the \"elbow point\" is identified as the point where the decrease in the WCSS levels off sharply, forming an \"elbow\". The k-value for this elbow point is the optimal number of clusters for this particular clustering problem.\n",
    "\n",
    "# Task 2.2\n",
    "<i>2. Randomly pick k centroids \"not necessarily from your dataset\" (or points that will be the center of your clusters) in d-space. Try to make them near the data but different from one another.</i>\n",
    "\n",
    "The locations of the initial centroids in k-means clustering are extremely important, as they affect how fast the algorithm converges to the final clusters. Randomly selecting initial centroids can lead to incorrect convergence and thus poor algorithm performance. It is better to find the range of each feature in the dataset (max - min) and use those values in initial centroid placement.\n",
    "\n",
    "Initial centroids do not have to be from the dataset, but they should be spread out enough to cover a good portion of the data space, and close enough to the data points that convergence happens quickly. The best way to proceed is to assign each centroid to a random location within the range of each feature, ensuring their close proximity to the data, and ensure they are spread out enough to capture the essence of the data. \n",
    "\n",
    "The following is a code example of how initial centroids can be selected: "
   ]
  },
  {
   "cell_type": "code",
   "execution_count": 190,
   "id": "174729aa",
   "metadata": {},
   "outputs": [],
   "source": [
    "'''\n",
    "import numpy as np\n",
    "\n",
    "# Get number of features\n",
    "d = len(df.columns)\n",
    "\n",
    "# Get min and max of each feature\n",
    "mins = df.min()\n",
    "maxes = df.max()\n",
    "\n",
    "k = 5 # Set arbitrary initial number of clusters\n",
    "\n",
    "# Create empty array to store centroids\n",
    "initial_centroids = []\n",
    "\n",
    "# Generate initial centroids\n",
    "for i in range(k): \n",
    "    centroid = []\n",
    "    for feature in range(d): \n",
    "        random_val = np.random.uniform(mins[feature], maxes[feature])\n",
    "        centroid.append(random_val)\n",
    "    initial_centroids.append(centroid)\n",
    "\n",
    "initial_centroids\n",
    "''';"
   ]
  },
  {
   "cell_type": "markdown",
   "id": "2f2891d0",
   "metadata": {},
   "source": [
    "# Task 2.3\n",
    "<i>Assign each data point to the closest centroid. This will form your k clusters. Apply the Euclidian distance to form your clusters.</i>\n",
    "\n",
    "To do this, we need to iterate through each data point. First, we calculate the Euclidean distance between it and every centroid we computed earlier. Then, we assign the data point to the closest centroid. After all data points have been assigned to a centroid, we consider this centroid and all the points assigned to it a complete cluster. \n",
    "\n",
    "The Euclidean distance can be computed using this formula: \n",
    "\n",
    "$d(\\mathbf{x}_i, \\mathbf{c}_j) = \\sqrt{\\sum_{m=1}^{M} (x_{im} - c_{jm})^2}$,\n",
    "\n",
    "where $x_i$ and $c_j$ are data points, $x_{im}$ and $c_{jm}$ are feature values of $x_i$ and $c_j$, and $M$ is the number of features.\n",
    "\n",
    "Here is the process illustrated in code. "
   ]
  },
  {
   "cell_type": "code",
   "execution_count": 191,
   "id": "598d4a2a",
   "metadata": {},
   "outputs": [],
   "source": [
    "'''\n",
    "# Function for calculating Euclidan distance\n",
    "def euclidean_distance(point, centroid): \n",
    "    return np.sqrt(np.sum((point - centroid) ** 2))\n",
    "\n",
    "# Assign data points to their closest centroid\n",
    "def assign_points(data, centroids): \n",
    "    clusters = {}\n",
    "    for i in range(len(centroids)): \n",
    "        clusters[i] = []\n",
    "    \n",
    "    for idx, data_point in data.iterrows(): \n",
    "        distances = [euclidean_distance(data_point.values, centroid) for centroid in centroids]\n",
    "        closest_centroid = np.argmin(distances)\n",
    "        clusters[closest_centroid].append(idx)\n",
    "        \n",
    "    return clusters\n",
    "\n",
    "# Apply cluster assignment\n",
    "clusters = assign_points(df, initial_centroids)\n",
    "''';"
   ]
  },
  {
   "cell_type": "markdown",
   "id": "41a3f7e8",
   "metadata": {},
   "source": [
    "# Task 2.4\n",
    "<i>Move the centroids to the average location of the data points assigned to it.</i>\n",
    "\n",
    "Repositioning the centroids to the average location of their assigned data points is necessary to improve the accuracy of the clusters. This simply involves calculating the mean of the data points in each cluster and reassigning the centroid to it. The following code demonstrates how that can be done. \n",
    "\n",
    "This is the formula for updating the centroids:\n",
    "$\\mathbf{c}_j = \\frac{1}{|S_j|} \\sum_{\\mathbf{x}_i \\in S_j} \\mathbf{x}_i$,\n",
    "\n",
    "where $c_j$ is the centroid of the $j$th cluster, $S_j$ is the set of points assigned to that cluster, and $x_i$ is the $i$th data point in $S_j$. "
   ]
  },
  {
   "cell_type": "code",
   "execution_count": 192,
   "id": "b44a1ce3",
   "metadata": {},
   "outputs": [],
   "source": [
    "'''\n",
    "# Function to update centroids\n",
    "def move_centroids(data, clusters): \n",
    "    updated_centroids = []\n",
    "    for cluster_id, data_indices in clusters.items(): \n",
    "        cluster_data = data.iloc[data_indices] # Extract the current cluster's data points\n",
    "        mean_location = cluster_data.mean() # Get the mean location of data points\n",
    "        updated_centroids.append(mean_location) # Update centroid location to mean\n",
    "    return updated_centroids\n",
    "\n",
    "# Demo usage\n",
    "centroids = update_centroids(df, clusters)\n",
    "''';"
   ]
  },
  {
   "cell_type": "markdown",
   "id": "aa16df74",
   "metadata": {},
   "source": [
    "# Task 2.5\n",
    "<i>Repeat the preceding two steps until the assignments do not change or change very little.</i>\n",
    "\n",
    "This part of the k-means clustering algorithm is iterative, meaning it repeats until the convergence criterion is met, IE the amount that centroids or cluster assignments have changed on the latest iteration is less than the threshold below which the algorithm is set to stop. At this point, we consider the clusters to be finalized.\n",
    "\n",
    "One common way to converge to the optimal clusters is by using the following objective function: \n",
    "$J = \\sum_{j=1}^{k} \\sum_{\\mathbf{x}_i \\in S_j} \\|\\mathbf{x}_i - \\mathbf{c}_j\\|^2$,\n",
    "where $J$ is the total WCSS, $k$ is the number of clusters, $x_i$ is the $i$th data point, $c_j$ is the centroid of the $j$th cluster, and $S_j$ is the set of data points assigned to that cluster. "
   ]
  },
  {
   "cell_type": "markdown",
   "id": "eb4487fa",
   "metadata": {},
   "source": [
    "# <span style=\"color:#D96F52\">Part 3</span>"
   ]
  },
  {
   "cell_type": "markdown",
   "id": "55cff06e",
   "metadata": {},
   "source": [
    "# Task 3.1\n",
    "<i>Explain the dataset and the type of information you wish to gain by applying a clustering method.</i>\n",
    "    \n",
    "These are the description, additional information and variable information provided on the UCI Machine Learning Repository page for the dataset: \n",
    "\n",
    "> Of the 12,330 sessions in the dataset, 84.5% (10,422) were negative class samples that did not end with shopping, and the rest (1908) were positive class samples ending with shopping.\n",
    "\n",
    "> The dataset consists of feature vectors belonging to 12,330 sessions. The dataset was formed so that each session would belong to a different user in a 1-year period to avoid any tendency to a specific campaign, special day, user profile, or period. \n",
    "    \n",
    "> The dataset consists of 10 numerical and 8 categorical attributes.\n",
    "The 'Revenue' attribute can be used as the class label.\n",
    "\"Administrative\", \"Administrative Duration\", \"Informational\", \"Informational Duration\", \"Product Related\" and \"Product Related Duration\" represent the number of different types of pages visited by the visitor in that session and total time spent in each of these page categories. The values of these features are derived from the URL information of the pages visited by the user and updated in real time when a user takes an action, e.g. moving from one page to another. The \"Bounce Rate\", \"Exit Rate\" and \"Page Value\" features represent the metrics measured by \"Google Analytics\" for each page in the e-commerce site. The value of \"Bounce Rate\" feature for a web page refers to the percentage of visitors who enter the site from that page and then leave (\"bounce\") without triggering any other requests to the analytics server during that session. The value of \"Exit Rate\" feature for a specific web page is calculated as for all pageviews to the page, the percentage that were the last in the session. The \"Page Value\" feature represents the average value for a web page that a user visited before completing an e-commerce transaction. The \"Special Day\" feature indicates the closeness of the site visiting time to a specific special day (e.g. Mother’s Day, Valentine's Day) in which the sessions are more likely to be finalized with transaction. The value of this attribute is determined by considering the dynamics of e-commerce such as the duration between the order date and delivery date. For example, for Valentina’s day, this value takes a nonzero value between February 2 and February 12, zero before and after this date unless it is close to another special day, and its maximum value of 1 on February 8. The dataset also includes operating system, browser, region, traffic type, visitor type as returning or new visitor, a Boolean value indicating whether the date of the visit is weekend, and month of the year.\n",
    "    \n",
    "A clustering model can be used to uncover numerous insights into online shopping behavior, the most useful of which being customer segmentation, where we can separate customers into distinct segments based on factors like the types of pages visited and the duration and frequency of their visits. This info empowers e-commerce organizations to target marketing strategies and recommendations to individual customers going forward.\n",
    "\n",
    "# Task 3.2\n",
    "<i>Explain the k-means algorithm and how you will be using it in your analysis (list the steps, the intuition behind the mathematical representation, and address its assumptions).</i>\n",
    "\n",
    "<b>Procedure</b> <br>\n",
    "As previously detailed, the k-means clustering algorithm works as follows: \n",
    "1. Find the optimal value of k from the elbow method. \n",
    "2. Randomly select k centroids, then adjust them to be close enough to the data points for quick convergence while still covering most of the data space. \n",
    "3. Assign each data point to its closest centroid. \n",
    "4. Reassign each centroid to the mean value of the data points assigned to it. \n",
    "5. Repeat steps 3 and 4 until convergence is achieved.\n",
    "\n",
    "<b>Assumptions Made</b>\n",
    "* Clusters are spherical in shape and evenly sized. \n",
    "* The mean of a cluster is an effective measure of centrality (since it is used to determine the centroid's location). \n",
    "\n",
    "The k-means clustering algorithm will be useful for grouping customer online shopping sessions, the results of which can be used for customer segmentation and subsequent targeted marketing strategies.\n",
    "\n",
    "# Task 3.3\n",
    "<i>Import the necessary libraries, then read the dataset into a data frame and perform initial statistical exploration.</i>\n",
    "\n",
    "### Loading the data"
   ]
  },
  {
   "cell_type": "code",
   "execution_count": 193,
   "id": "6a1025b0",
   "metadata": {
    "scrolled": true
   },
   "outputs": [
    {
     "data": {
      "text/html": [
       "<div>\n",
       "<style scoped>\n",
       "    .dataframe tbody tr th:only-of-type {\n",
       "        vertical-align: middle;\n",
       "    }\n",
       "\n",
       "    .dataframe tbody tr th {\n",
       "        vertical-align: top;\n",
       "    }\n",
       "\n",
       "    .dataframe thead th {\n",
       "        text-align: right;\n",
       "    }\n",
       "</style>\n",
       "<table border=\"1\" class=\"dataframe\">\n",
       "  <thead>\n",
       "    <tr style=\"text-align: right;\">\n",
       "      <th></th>\n",
       "      <th>Administrative</th>\n",
       "      <th>Administrative_Duration</th>\n",
       "      <th>Informational</th>\n",
       "      <th>Informational_Duration</th>\n",
       "      <th>ProductRelated</th>\n",
       "      <th>ProductRelated_Duration</th>\n",
       "      <th>BounceRates</th>\n",
       "      <th>ExitRates</th>\n",
       "      <th>PageValues</th>\n",
       "      <th>SpecialDay</th>\n",
       "      <th>Month</th>\n",
       "      <th>OperatingSystems</th>\n",
       "      <th>Browser</th>\n",
       "      <th>Region</th>\n",
       "      <th>TrafficType</th>\n",
       "      <th>VisitorType</th>\n",
       "      <th>Weekend</th>\n",
       "      <th>Revenue</th>\n",
       "    </tr>\n",
       "  </thead>\n",
       "  <tbody>\n",
       "    <tr>\n",
       "      <th>0</th>\n",
       "      <td>0</td>\n",
       "      <td>0.0</td>\n",
       "      <td>0</td>\n",
       "      <td>0.0</td>\n",
       "      <td>1</td>\n",
       "      <td>0.000000</td>\n",
       "      <td>0.20</td>\n",
       "      <td>0.20</td>\n",
       "      <td>0.0</td>\n",
       "      <td>0.0</td>\n",
       "      <td>Feb</td>\n",
       "      <td>1</td>\n",
       "      <td>1</td>\n",
       "      <td>1</td>\n",
       "      <td>1</td>\n",
       "      <td>Returning_Visitor</td>\n",
       "      <td>False</td>\n",
       "      <td>False</td>\n",
       "    </tr>\n",
       "    <tr>\n",
       "      <th>1</th>\n",
       "      <td>0</td>\n",
       "      <td>0.0</td>\n",
       "      <td>0</td>\n",
       "      <td>0.0</td>\n",
       "      <td>2</td>\n",
       "      <td>64.000000</td>\n",
       "      <td>0.00</td>\n",
       "      <td>0.10</td>\n",
       "      <td>0.0</td>\n",
       "      <td>0.0</td>\n",
       "      <td>Feb</td>\n",
       "      <td>2</td>\n",
       "      <td>2</td>\n",
       "      <td>1</td>\n",
       "      <td>2</td>\n",
       "      <td>Returning_Visitor</td>\n",
       "      <td>False</td>\n",
       "      <td>False</td>\n",
       "    </tr>\n",
       "    <tr>\n",
       "      <th>2</th>\n",
       "      <td>0</td>\n",
       "      <td>0.0</td>\n",
       "      <td>0</td>\n",
       "      <td>0.0</td>\n",
       "      <td>1</td>\n",
       "      <td>0.000000</td>\n",
       "      <td>0.20</td>\n",
       "      <td>0.20</td>\n",
       "      <td>0.0</td>\n",
       "      <td>0.0</td>\n",
       "      <td>Feb</td>\n",
       "      <td>4</td>\n",
       "      <td>1</td>\n",
       "      <td>9</td>\n",
       "      <td>3</td>\n",
       "      <td>Returning_Visitor</td>\n",
       "      <td>False</td>\n",
       "      <td>False</td>\n",
       "    </tr>\n",
       "    <tr>\n",
       "      <th>3</th>\n",
       "      <td>0</td>\n",
       "      <td>0.0</td>\n",
       "      <td>0</td>\n",
       "      <td>0.0</td>\n",
       "      <td>2</td>\n",
       "      <td>2.666667</td>\n",
       "      <td>0.05</td>\n",
       "      <td>0.14</td>\n",
       "      <td>0.0</td>\n",
       "      <td>0.0</td>\n",
       "      <td>Feb</td>\n",
       "      <td>3</td>\n",
       "      <td>2</td>\n",
       "      <td>2</td>\n",
       "      <td>4</td>\n",
       "      <td>Returning_Visitor</td>\n",
       "      <td>False</td>\n",
       "      <td>False</td>\n",
       "    </tr>\n",
       "    <tr>\n",
       "      <th>4</th>\n",
       "      <td>0</td>\n",
       "      <td>0.0</td>\n",
       "      <td>0</td>\n",
       "      <td>0.0</td>\n",
       "      <td>10</td>\n",
       "      <td>627.500000</td>\n",
       "      <td>0.02</td>\n",
       "      <td>0.05</td>\n",
       "      <td>0.0</td>\n",
       "      <td>0.0</td>\n",
       "      <td>Feb</td>\n",
       "      <td>3</td>\n",
       "      <td>3</td>\n",
       "      <td>1</td>\n",
       "      <td>4</td>\n",
       "      <td>Returning_Visitor</td>\n",
       "      <td>True</td>\n",
       "      <td>False</td>\n",
       "    </tr>\n",
       "  </tbody>\n",
       "</table>\n",
       "</div>"
      ],
      "text/plain": [
       "   Administrative  Administrative_Duration  Informational  \\\n",
       "0               0                      0.0              0   \n",
       "1               0                      0.0              0   \n",
       "2               0                      0.0              0   \n",
       "3               0                      0.0              0   \n",
       "4               0                      0.0              0   \n",
       "\n",
       "   Informational_Duration  ProductRelated  ProductRelated_Duration  \\\n",
       "0                     0.0               1                 0.000000   \n",
       "1                     0.0               2                64.000000   \n",
       "2                     0.0               1                 0.000000   \n",
       "3                     0.0               2                 2.666667   \n",
       "4                     0.0              10               627.500000   \n",
       "\n",
       "   BounceRates  ExitRates  PageValues  SpecialDay Month  OperatingSystems  \\\n",
       "0         0.20       0.20         0.0         0.0   Feb                 1   \n",
       "1         0.00       0.10         0.0         0.0   Feb                 2   \n",
       "2         0.20       0.20         0.0         0.0   Feb                 4   \n",
       "3         0.05       0.14         0.0         0.0   Feb                 3   \n",
       "4         0.02       0.05         0.0         0.0   Feb                 3   \n",
       "\n",
       "   Browser  Region  TrafficType        VisitorType  Weekend  Revenue  \n",
       "0        1       1            1  Returning_Visitor    False    False  \n",
       "1        2       1            2  Returning_Visitor    False    False  \n",
       "2        1       9            3  Returning_Visitor    False    False  \n",
       "3        2       2            4  Returning_Visitor    False    False  \n",
       "4        3       1            4  Returning_Visitor     True    False  "
      ]
     },
     "execution_count": 193,
     "metadata": {},
     "output_type": "execute_result"
    }
   ],
   "source": [
    "import pandas as pd\n",
    "\n",
    "# Load and view data\n",
    "df = pd.read_csv(\"online_shoppers_intention.csv\")\n",
    "df.head()"
   ]
  },
  {
   "cell_type": "markdown",
   "id": "107d3df0",
   "metadata": {},
   "source": [
    "### Variable Information (from UCI ML Repo page)\n",
    "* `Administrative`: Number of administrative pages visited.\n",
    "* `Administrative_Duration`: Time spent on administrative pages (s). \n",
    "* `Informational`: Number of informational pages visited.\n",
    "* `Informational_Duration`: Time spent on informational pages (s). \n",
    "* `ProductRelated`: Number of product-related pages visited.\n",
    "* `ProductRelated_Duration`: Time spent on produce-related pages (s). \n",
    "* `BounceRates`: The percentage of visitors on the page who entered the site through it and did not go anywhere else on the site.\n",
    "* `ExitRates`: The percentage of visitors for whom a visit to that page was the last in that session. \n",
    "* `PageValues`: The average value of a page that a user visited before making a purchase. \n",
    "* `SpecialDay`: How close the day of the session was to a special day, like Mother's Day or Valentine's Day. \n",
    "* `Month`: Which month the session was in.\n",
    "* `OperatingSystems`: What operating system the visitor was using. \n",
    "* `Browser`: What browser the visitor was using. \n",
    "* `Region`: The region the user was located in. \n",
    "* `TrafficType`: What type of traffic the visitor was (organic, direct, referral, social, paid, etc.)\n",
    "* `VisitorType`: Whether the user is a returning or new visitor. \n",
    "* `Weekend`: Whether the session was on a weekend. \n",
    "* `Revenue`: Whether the session involved a purchase or not. \n",
    "\n",
    "### Renaming columns"
   ]
  },
  {
   "cell_type": "code",
   "execution_count": 194,
   "id": "f698d4e8",
   "metadata": {},
   "outputs": [
    {
     "data": {
      "text/plain": [
       "Index(['Administrative', 'Administrative_Duration', 'Informational',\n",
       "       'Informational_Duration', 'ProductRelated', 'ProductRelated_Duration',\n",
       "       'BounceRates', 'ExitRates', 'PageValues', 'SpecialDay', 'Month',\n",
       "       'OperatingSystems', 'Browser', 'Region', 'TrafficType', 'VisitorType',\n",
       "       'Weekend', 'Revenue'],\n",
       "      dtype='object')"
      ]
     },
     "execution_count": 194,
     "metadata": {},
     "output_type": "execute_result"
    }
   ],
   "source": [
    "df.columns # Show current column names"
   ]
  },
  {
   "cell_type": "code",
   "execution_count": 195,
   "id": "9b5b2122",
   "metadata": {},
   "outputs": [
    {
     "data": {
      "text/plain": [
       "Index(['admin', 'admin_duration', 'info', 'info_duration', 'productrelated',\n",
       "       'productrelated_duration', 'bounce_rates', 'exit_rates', 'page_values',\n",
       "       'special_day', 'month', 'operating_systems', 'browser', 'region',\n",
       "       'traffic_type', 'visitor_type', 'weekend', 'revenue'],\n",
       "      dtype='object')"
      ]
     },
     "execution_count": 195,
     "metadata": {},
     "output_type": "execute_result"
    }
   ],
   "source": [
    "# Create new names for columns\n",
    "new_column_mapping = {\"Administrative\": \"admin\", \"Administrative_Duration\": \"admin_duration\", \"Informational\": \"info\",\n",
    "                      \"Informational_Duration\": \"info_duration\", \"ProductRelated\": \"productrelated\",\n",
    "                      \"ProductRelated_Duration\": \"productrelated_duration\", \"BounceRates\": \"bounce_rates\",\n",
    "                      \"ExitRates\": \"exit_rates\", \"PageValues\": \"page_values\", \"SpecialDay\": \"special_day\", \"Month\": \"month\",\n",
    "                      \"OperatingSystems\": \"operating_systems\", \"Browser\": \"browser\", \"Region\": \"region\", \n",
    "                      \"TrafficType\": \"traffic_type\", \"VisitorType\": \"visitor_type\", \"Weekend\": \"weekend\", \"Revenue\": \"revenue\"}\n",
    "\n",
    "# Apply mapping to dataframe\n",
    "df.rename(columns=new_column_mapping, inplace=True)\n",
    "\n",
    "# Show new column names\n",
    "df.columns"
   ]
  },
  {
   "cell_type": "markdown",
   "id": "b5e4e448",
   "metadata": {},
   "source": [
    "### Showing dataset info"
   ]
  },
  {
   "cell_type": "code",
   "execution_count": 196,
   "id": "b4d50acf",
   "metadata": {},
   "outputs": [
    {
     "name": "stdout",
     "output_type": "stream",
     "text": [
      "<class 'pandas.core.frame.DataFrame'>\n",
      "RangeIndex: 12330 entries, 0 to 12329\n",
      "Data columns (total 18 columns):\n",
      " #   Column                   Non-Null Count  Dtype  \n",
      "---  ------                   --------------  -----  \n",
      " 0   admin                    12330 non-null  int64  \n",
      " 1   admin_duration           12330 non-null  float64\n",
      " 2   info                     12330 non-null  int64  \n",
      " 3   info_duration            12330 non-null  float64\n",
      " 4   productrelated           12330 non-null  int64  \n",
      " 5   productrelated_duration  12330 non-null  float64\n",
      " 6   bounce_rates             12330 non-null  float64\n",
      " 7   exit_rates               12330 non-null  float64\n",
      " 8   page_values              12330 non-null  float64\n",
      " 9   special_day              12330 non-null  float64\n",
      " 10  month                    12330 non-null  object \n",
      " 11  operating_systems        12330 non-null  int64  \n",
      " 12  browser                  12330 non-null  int64  \n",
      " 13  region                   12330 non-null  int64  \n",
      " 14  traffic_type             12330 non-null  int64  \n",
      " 15  visitor_type             12330 non-null  object \n",
      " 16  weekend                  12330 non-null  bool   \n",
      " 17  revenue                  12330 non-null  bool   \n",
      "dtypes: bool(2), float64(7), int64(7), object(2)\n",
      "memory usage: 1.5+ MB\n"
     ]
    }
   ],
   "source": [
    "df.info()"
   ]
  },
  {
   "cell_type": "markdown",
   "id": "db0441b5",
   "metadata": {},
   "source": [
    "The dataset consists mostly of `int`, `float` and `bool` columns, with two `object` columns that will need to be encoded later for modeling.\n",
    "\n",
    "### Viewing descriptive statistics for numeric columns"
   ]
  },
  {
   "cell_type": "code",
   "execution_count": 197,
   "id": "bc806010",
   "metadata": {},
   "outputs": [
    {
     "data": {
      "text/html": [
       "<div>\n",
       "<style scoped>\n",
       "    .dataframe tbody tr th:only-of-type {\n",
       "        vertical-align: middle;\n",
       "    }\n",
       "\n",
       "    .dataframe tbody tr th {\n",
       "        vertical-align: top;\n",
       "    }\n",
       "\n",
       "    .dataframe thead th {\n",
       "        text-align: right;\n",
       "    }\n",
       "</style>\n",
       "<table border=\"1\" class=\"dataframe\">\n",
       "  <thead>\n",
       "    <tr style=\"text-align: right;\">\n",
       "      <th></th>\n",
       "      <th>count</th>\n",
       "      <th>mean</th>\n",
       "      <th>std</th>\n",
       "      <th>min</th>\n",
       "      <th>25%</th>\n",
       "      <th>50%</th>\n",
       "      <th>75%</th>\n",
       "      <th>max</th>\n",
       "    </tr>\n",
       "  </thead>\n",
       "  <tbody>\n",
       "    <tr>\n",
       "      <th>admin</th>\n",
       "      <td>12330.0</td>\n",
       "      <td>2.32</td>\n",
       "      <td>3.32</td>\n",
       "      <td>0.0</td>\n",
       "      <td>0.00</td>\n",
       "      <td>1.00</td>\n",
       "      <td>4.00</td>\n",
       "      <td>27.00</td>\n",
       "    </tr>\n",
       "    <tr>\n",
       "      <th>admin_duration</th>\n",
       "      <td>12330.0</td>\n",
       "      <td>80.82</td>\n",
       "      <td>176.78</td>\n",
       "      <td>0.0</td>\n",
       "      <td>0.00</td>\n",
       "      <td>7.50</td>\n",
       "      <td>93.26</td>\n",
       "      <td>3398.75</td>\n",
       "    </tr>\n",
       "    <tr>\n",
       "      <th>info</th>\n",
       "      <td>12330.0</td>\n",
       "      <td>0.50</td>\n",
       "      <td>1.27</td>\n",
       "      <td>0.0</td>\n",
       "      <td>0.00</td>\n",
       "      <td>0.00</td>\n",
       "      <td>0.00</td>\n",
       "      <td>24.00</td>\n",
       "    </tr>\n",
       "    <tr>\n",
       "      <th>info_duration</th>\n",
       "      <td>12330.0</td>\n",
       "      <td>34.47</td>\n",
       "      <td>140.75</td>\n",
       "      <td>0.0</td>\n",
       "      <td>0.00</td>\n",
       "      <td>0.00</td>\n",
       "      <td>0.00</td>\n",
       "      <td>2549.38</td>\n",
       "    </tr>\n",
       "    <tr>\n",
       "      <th>productrelated</th>\n",
       "      <td>12330.0</td>\n",
       "      <td>31.73</td>\n",
       "      <td>44.48</td>\n",
       "      <td>0.0</td>\n",
       "      <td>7.00</td>\n",
       "      <td>18.00</td>\n",
       "      <td>38.00</td>\n",
       "      <td>705.00</td>\n",
       "    </tr>\n",
       "    <tr>\n",
       "      <th>productrelated_duration</th>\n",
       "      <td>12330.0</td>\n",
       "      <td>1194.75</td>\n",
       "      <td>1913.67</td>\n",
       "      <td>0.0</td>\n",
       "      <td>184.14</td>\n",
       "      <td>598.94</td>\n",
       "      <td>1464.16</td>\n",
       "      <td>63973.52</td>\n",
       "    </tr>\n",
       "    <tr>\n",
       "      <th>bounce_rates</th>\n",
       "      <td>12330.0</td>\n",
       "      <td>0.02</td>\n",
       "      <td>0.05</td>\n",
       "      <td>0.0</td>\n",
       "      <td>0.00</td>\n",
       "      <td>0.00</td>\n",
       "      <td>0.02</td>\n",
       "      <td>0.20</td>\n",
       "    </tr>\n",
       "    <tr>\n",
       "      <th>exit_rates</th>\n",
       "      <td>12330.0</td>\n",
       "      <td>0.04</td>\n",
       "      <td>0.05</td>\n",
       "      <td>0.0</td>\n",
       "      <td>0.01</td>\n",
       "      <td>0.03</td>\n",
       "      <td>0.05</td>\n",
       "      <td>0.20</td>\n",
       "    </tr>\n",
       "    <tr>\n",
       "      <th>page_values</th>\n",
       "      <td>12330.0</td>\n",
       "      <td>5.89</td>\n",
       "      <td>18.57</td>\n",
       "      <td>0.0</td>\n",
       "      <td>0.00</td>\n",
       "      <td>0.00</td>\n",
       "      <td>0.00</td>\n",
       "      <td>361.76</td>\n",
       "    </tr>\n",
       "    <tr>\n",
       "      <th>special_day</th>\n",
       "      <td>12330.0</td>\n",
       "      <td>0.06</td>\n",
       "      <td>0.20</td>\n",
       "      <td>0.0</td>\n",
       "      <td>0.00</td>\n",
       "      <td>0.00</td>\n",
       "      <td>0.00</td>\n",
       "      <td>1.00</td>\n",
       "    </tr>\n",
       "    <tr>\n",
       "      <th>operating_systems</th>\n",
       "      <td>12330.0</td>\n",
       "      <td>2.12</td>\n",
       "      <td>0.91</td>\n",
       "      <td>1.0</td>\n",
       "      <td>2.00</td>\n",
       "      <td>2.00</td>\n",
       "      <td>3.00</td>\n",
       "      <td>8.00</td>\n",
       "    </tr>\n",
       "    <tr>\n",
       "      <th>browser</th>\n",
       "      <td>12330.0</td>\n",
       "      <td>2.36</td>\n",
       "      <td>1.72</td>\n",
       "      <td>1.0</td>\n",
       "      <td>2.00</td>\n",
       "      <td>2.00</td>\n",
       "      <td>2.00</td>\n",
       "      <td>13.00</td>\n",
       "    </tr>\n",
       "    <tr>\n",
       "      <th>region</th>\n",
       "      <td>12330.0</td>\n",
       "      <td>3.15</td>\n",
       "      <td>2.40</td>\n",
       "      <td>1.0</td>\n",
       "      <td>1.00</td>\n",
       "      <td>3.00</td>\n",
       "      <td>4.00</td>\n",
       "      <td>9.00</td>\n",
       "    </tr>\n",
       "    <tr>\n",
       "      <th>traffic_type</th>\n",
       "      <td>12330.0</td>\n",
       "      <td>4.07</td>\n",
       "      <td>4.03</td>\n",
       "      <td>1.0</td>\n",
       "      <td>2.00</td>\n",
       "      <td>2.00</td>\n",
       "      <td>4.00</td>\n",
       "      <td>20.00</td>\n",
       "    </tr>\n",
       "  </tbody>\n",
       "</table>\n",
       "</div>"
      ],
      "text/plain": [
       "                           count     mean      std  min     25%     50%  \\\n",
       "admin                    12330.0     2.32     3.32  0.0    0.00    1.00   \n",
       "admin_duration           12330.0    80.82   176.78  0.0    0.00    7.50   \n",
       "info                     12330.0     0.50     1.27  0.0    0.00    0.00   \n",
       "info_duration            12330.0    34.47   140.75  0.0    0.00    0.00   \n",
       "productrelated           12330.0    31.73    44.48  0.0    7.00   18.00   \n",
       "productrelated_duration  12330.0  1194.75  1913.67  0.0  184.14  598.94   \n",
       "bounce_rates             12330.0     0.02     0.05  0.0    0.00    0.00   \n",
       "exit_rates               12330.0     0.04     0.05  0.0    0.01    0.03   \n",
       "page_values              12330.0     5.89    18.57  0.0    0.00    0.00   \n",
       "special_day              12330.0     0.06     0.20  0.0    0.00    0.00   \n",
       "operating_systems        12330.0     2.12     0.91  1.0    2.00    2.00   \n",
       "browser                  12330.0     2.36     1.72  1.0    2.00    2.00   \n",
       "region                   12330.0     3.15     2.40  1.0    1.00    3.00   \n",
       "traffic_type             12330.0     4.07     4.03  1.0    2.00    2.00   \n",
       "\n",
       "                             75%       max  \n",
       "admin                       4.00     27.00  \n",
       "admin_duration             93.26   3398.75  \n",
       "info                        0.00     24.00  \n",
       "info_duration               0.00   2549.38  \n",
       "productrelated             38.00    705.00  \n",
       "productrelated_duration  1464.16  63973.52  \n",
       "bounce_rates                0.02      0.20  \n",
       "exit_rates                  0.05      0.20  \n",
       "page_values                 0.00    361.76  \n",
       "special_day                 0.00      1.00  \n",
       "operating_systems           3.00      8.00  \n",
       "browser                     2.00     13.00  \n",
       "region                      4.00      9.00  \n",
       "traffic_type                4.00     20.00  "
      ]
     },
     "execution_count": 197,
     "metadata": {},
     "output_type": "execute_result"
    }
   ],
   "source": [
    "df.describe().round(2).transpose()"
   ]
  },
  {
   "cell_type": "markdown",
   "id": "c80d862b",
   "metadata": {},
   "source": [
    "Most sessions involved the user spending much more time on product-related pages than on admin or info pages. \n",
    "\n",
    "# Task 3.4\n",
    "<i>Clean the data and address unusual phenomena (e.g., outliers); use illustrative diagrams and plots and explain them.</i>\n",
    "\n",
    "### Removing duplicates"
   ]
  },
  {
   "cell_type": "code",
   "execution_count": 198,
   "id": "fae1b5f1",
   "metadata": {},
   "outputs": [
    {
     "name": "stdout",
     "output_type": "stream",
     "text": [
      "Number of duplicate rows: 125\n",
      "Number of duplicate rows after dropping: 0\n"
     ]
    }
   ],
   "source": [
    "# Find number of duplicate rows\n",
    "print(f\"Number of duplicate rows: {df.duplicated().sum()}\")\n",
    "\n",
    "# Drop duplicates and report results\n",
    "df = df.drop_duplicates()\n",
    "print(f\"Number of duplicate rows after dropping: {df.duplicated().sum()}\")"
   ]
  },
  {
   "cell_type": "markdown",
   "id": "6d3947d9",
   "metadata": {},
   "source": [
    "### Handling missing values"
   ]
  },
  {
   "cell_type": "code",
   "execution_count": 199,
   "id": "f15c3e22",
   "metadata": {},
   "outputs": [
    {
     "name": "stdout",
     "output_type": "stream",
     "text": [
      "Number of rows with missing values: 0\n",
      "Total number of rows: 12205\n",
      "\n"
     ]
    }
   ],
   "source": [
    "# Find number of rows with missing values\n",
    "print(f\"Number of rows with missing values: {df.isna().any(axis=1).sum()}\")\n",
    "print(f\"Total number of rows: {len(df)}\\n\")"
   ]
  },
  {
   "cell_type": "markdown",
   "id": "e2aefe57",
   "metadata": {},
   "source": [
    "The dataset does not have any `NaN` values, and the UCI ML Repository page claims no missing values are present, ruling out the possibility of a placeholder like -1 being used to fill in missing values. Thus, this is a non-issue with this dataset. \n",
    "\n",
    "### Handling outliers\n",
    "We will use the Z-score method to detect outliers. The number of outliers present will inform what we do with them (remove, scale, etc.), if anything at all. "
   ]
  },
  {
   "cell_type": "code",
   "execution_count": 200,
   "id": "82a64e09",
   "metadata": {},
   "outputs": [
    {
     "name": "stdout",
     "output_type": "stream",
     "text": [
      "<class 'pandas.core.frame.DataFrame'>\n",
      "Index: 12205 entries, 0 to 12329\n",
      "Data columns (total 18 columns):\n",
      " #   Column                   Non-Null Count  Dtype  \n",
      "---  ------                   --------------  -----  \n",
      " 0   admin                    12205 non-null  int64  \n",
      " 1   admin_duration           12205 non-null  float64\n",
      " 2   info                     12205 non-null  int64  \n",
      " 3   info_duration            12205 non-null  float64\n",
      " 4   productrelated           12205 non-null  int64  \n",
      " 5   productrelated_duration  12205 non-null  float64\n",
      " 6   bounce_rates             12205 non-null  float64\n",
      " 7   exit_rates               12205 non-null  float64\n",
      " 8   page_values              12205 non-null  float64\n",
      " 9   special_day              12205 non-null  float64\n",
      " 10  month                    12205 non-null  object \n",
      " 11  operating_systems        12205 non-null  int64  \n",
      " 12  browser                  12205 non-null  int64  \n",
      " 13  region                   12205 non-null  int64  \n",
      " 14  traffic_type             12205 non-null  int64  \n",
      " 15  visitor_type             12205 non-null  object \n",
      " 16  weekend                  12205 non-null  bool   \n",
      " 17  revenue                  12205 non-null  bool   \n",
      "dtypes: bool(2), float64(7), int64(7), object(2)\n",
      "memory usage: 1.6+ MB\n"
     ]
    }
   ],
   "source": [
    "df.info()"
   ]
  },
  {
   "cell_type": "code",
   "execution_count": 201,
   "id": "7fc312f7",
   "metadata": {},
   "outputs": [
    {
     "name": "stdout",
     "output_type": "stream",
     "text": [
      "Number of outliers: 1753\n",
      "Total number of entries: 12205\n"
     ]
    }
   ],
   "source": [
    "import numpy as np\n",
    "from scipy import stats\n",
    "\n",
    "# Define columns to use in Z-score calculation\n",
    "columns_of_interest = [\"admin\", \"admin_duration\", \"info\", \"info_duration\", \"productrelated\", \"productrelated_duration\", \n",
    "                    \"bounce_rates\", \"exit_rates\", \"page_values\"]\n",
    "#columns_of_interest = [\"admin_duration\"]\n",
    "\n",
    "# Calculate Z-scores\n",
    "z_scores = np.abs(stats.zscore(df[columns_of_interest]))\n",
    "\n",
    "# Set threshold for outliers\n",
    "threshold = 3\n",
    "\n",
    "# Find all outliers\n",
    "outliers = df[(z_scores > threshold).any(axis=1)]\n",
    "\n",
    "# Show number of outliers\n",
    "print(f\"Number of outliers: {len(outliers)}\")\n",
    "print(f\"Total number of entries: {len(df)}\")"
   ]
  },
  {
   "cell_type": "markdown",
   "id": "ad4a7561",
   "metadata": {},
   "source": [
    "The outliers constitute over 10% of the data, so removing all of them could lead to biased and inaccurate results. For this reason, we will cap all values at the 99th percentile to eliminate extreme outliers. This will improve the effectiveness of clustering because the clusters will be less affected by data points that are far away from the others."
   ]
  },
  {
   "cell_type": "code",
   "execution_count": 202,
   "id": "84011c27",
   "metadata": {},
   "outputs": [
    {
     "name": "stdout",
     "output_type": "stream",
     "text": [
      "Number of outliers after capping: 1753\n"
     ]
    }
   ],
   "source": [
    "# Cap values at 99th percentile\n",
    "for col in columns_of_interest:\n",
    "    percentile_99 = df[col].quantile(0.99)\n",
    "    df[col] = np.where(df[col] > percentile_99, percentile_99, df[col])\n",
    "    \n",
    "# Check new outlier count\n",
    "outliers = df[(z_scores > threshold).any(axis=1)]\n",
    "print(f\"Number of outliers after capping: {len(outliers)}\")"
   ]
  },
  {
   "cell_type": "markdown",
   "id": "58097b07",
   "metadata": {},
   "source": [
    "The outlier count didn't change after capping at the 99th percentile, indicating that no extreme outliers are present. Thus, outliers should not be a significant problem because all of them are at least somewhat close to the other data points."
   ]
  },
  {
   "cell_type": "markdown",
   "id": "17348170",
   "metadata": {},
   "source": [
    "### Converting data types\n",
    "We will need to encode the two object columns to a numeric format for modeling, but will need to decide which type of encoding (label or one-hot) to use. Let's take a look at these two columns to help us decide. "
   ]
  },
  {
   "cell_type": "code",
   "execution_count": 203,
   "id": "8e44f7e6",
   "metadata": {
    "scrolled": true
   },
   "outputs": [
    {
     "name": "stdout",
     "output_type": "stream",
     "text": [
      "Unique values for column \"month\": ['feb' 'mar' 'may' 'oct' 'june' 'jul' 'aug' 'nov' 'sep' 'dec']\n",
      "\n",
      "Unique values for column \"visitor_type\": ['returning_visitor' 'new_visitor' 'other']\n",
      "\n"
     ]
    }
   ],
   "source": [
    "# Select object columns\n",
    "object_columns = df.select_dtypes(include=[\"object\"])\n",
    "\n",
    "# Set all values of object columns to lowercase\n",
    "df[\"month\"] = df[\"month\"].str.lower()\n",
    "df[\"visitor_type\"] = df[\"visitor_type\"].str.lower()\n",
    "\n",
    "# Display unique values for columns\n",
    "for col in object_columns: \n",
    "    print(f\"Unique values for column \\\"{col}\\\": {df[col].unique()}\")\n",
    "    print()"
   ]
  },
  {
   "cell_type": "markdown",
   "id": "54c68d92",
   "metadata": {},
   "source": [
    "`month` is an ordinal column, so label encoding will be useful here. On the other hand, `visitor_type` is nominal, so one-hot encoding is a better choice. Let's apply those now: "
   ]
  },
  {
   "cell_type": "code",
   "execution_count": 204,
   "id": "ac81aebb",
   "metadata": {},
   "outputs": [],
   "source": [
    "# Map month names to their respective numbers\n",
    "month_mapping = {\"jan\": 1, \"feb\": 2, \"mar\": 3, \"apr\": 4, \"may\": 5, \"jun\": 6, \"jul\": 7, \"aug\": 8, \"sep\": 9, \"oct\": 10, \n",
    "                 \"nov\": 11, \"dec\": 12}\n",
    "df[\"month\"] = df[\"month\"].map(month_mapping)\n",
    "\n",
    "# Apply one-hot encoding to \"visitor_type\"\n",
    "df = pd.get_dummies(df, columns=[\"visitor_type\"], drop_first=False)"
   ]
  },
  {
   "cell_type": "code",
   "execution_count": 205,
   "id": "5948864e",
   "metadata": {
    "scrolled": true
   },
   "outputs": [
    {
     "data": {
      "text/html": [
       "<div>\n",
       "<style scoped>\n",
       "    .dataframe tbody tr th:only-of-type {\n",
       "        vertical-align: middle;\n",
       "    }\n",
       "\n",
       "    .dataframe tbody tr th {\n",
       "        vertical-align: top;\n",
       "    }\n",
       "\n",
       "    .dataframe thead th {\n",
       "        text-align: right;\n",
       "    }\n",
       "</style>\n",
       "<table border=\"1\" class=\"dataframe\">\n",
       "  <thead>\n",
       "    <tr style=\"text-align: right;\">\n",
       "      <th></th>\n",
       "      <th>month</th>\n",
       "      <th>visitor_type_new_visitor</th>\n",
       "      <th>visitor_type_other</th>\n",
       "      <th>visitor_type_returning_visitor</th>\n",
       "    </tr>\n",
       "  </thead>\n",
       "  <tbody>\n",
       "    <tr>\n",
       "      <th>6045</th>\n",
       "      <td>8.0</td>\n",
       "      <td>False</td>\n",
       "      <td>False</td>\n",
       "      <td>True</td>\n",
       "    </tr>\n",
       "    <tr>\n",
       "      <th>7750</th>\n",
       "      <td>10.0</td>\n",
       "      <td>False</td>\n",
       "      <td>False</td>\n",
       "      <td>True</td>\n",
       "    </tr>\n",
       "    <tr>\n",
       "      <th>203</th>\n",
       "      <td>3.0</td>\n",
       "      <td>False</td>\n",
       "      <td>False</td>\n",
       "      <td>True</td>\n",
       "    </tr>\n",
       "    <tr>\n",
       "      <th>10452</th>\n",
       "      <td>11.0</td>\n",
       "      <td>False</td>\n",
       "      <td>False</td>\n",
       "      <td>True</td>\n",
       "    </tr>\n",
       "    <tr>\n",
       "      <th>1177</th>\n",
       "      <td>3.0</td>\n",
       "      <td>True</td>\n",
       "      <td>False</td>\n",
       "      <td>False</td>\n",
       "    </tr>\n",
       "  </tbody>\n",
       "</table>\n",
       "</div>"
      ],
      "text/plain": [
       "       month  visitor_type_new_visitor  visitor_type_other  \\\n",
       "6045     8.0                     False               False   \n",
       "7750    10.0                     False               False   \n",
       "203      3.0                     False               False   \n",
       "10452   11.0                     False               False   \n",
       "1177     3.0                      True               False   \n",
       "\n",
       "       visitor_type_returning_visitor  \n",
       "6045                             True  \n",
       "7750                             True  \n",
       "203                              True  \n",
       "10452                            True  \n",
       "1177                            False  "
      ]
     },
     "execution_count": 205,
     "metadata": {},
     "output_type": "execute_result"
    }
   ],
   "source": [
    "# Show results\n",
    "encoded_columns = pd.concat([df[[\"month\"]], df.filter(like=\"visitor_type\")], axis=1)\n",
    "encoded_columns.sample(5, random_state=42).head()"
   ]
  },
  {
   "cell_type": "code",
   "execution_count": 206,
   "id": "2bb697c6",
   "metadata": {},
   "outputs": [
    {
     "data": {
      "text/plain": [
       "float64    11\n",
       "bool        5\n",
       "int64       4\n",
       "Name: count, dtype: int64"
      ]
     },
     "execution_count": 206,
     "metadata": {},
     "output_type": "execute_result"
    }
   ],
   "source": [
    "# Show counts of each datatype\n",
    "df.dtypes.value_counts()"
   ]
  },
  {
   "cell_type": "markdown",
   "id": "a3e31c42",
   "metadata": {},
   "source": [
    "### Normalizing numeric features\n",
    "Now that all features are numeric, it is time to normalize them so they are all on the same scale for modeling purposes. "
   ]
  },
  {
   "cell_type": "code",
   "execution_count": 207,
   "id": "797e6824",
   "metadata": {},
   "outputs": [
    {
     "data": {
      "text/html": [
       "<div>\n",
       "<style scoped>\n",
       "    .dataframe tbody tr th:only-of-type {\n",
       "        vertical-align: middle;\n",
       "    }\n",
       "\n",
       "    .dataframe tbody tr th {\n",
       "        vertical-align: top;\n",
       "    }\n",
       "\n",
       "    .dataframe thead th {\n",
       "        text-align: right;\n",
       "    }\n",
       "</style>\n",
       "<table border=\"1\" class=\"dataframe\">\n",
       "  <thead>\n",
       "    <tr style=\"text-align: right;\">\n",
       "      <th></th>\n",
       "      <th>admin</th>\n",
       "      <th>admin_duration</th>\n",
       "      <th>info</th>\n",
       "      <th>info_duration</th>\n",
       "      <th>productrelated</th>\n",
       "      <th>productrelated_duration</th>\n",
       "      <th>bounce_rates</th>\n",
       "      <th>exit_rates</th>\n",
       "      <th>page_values</th>\n",
       "      <th>special_day</th>\n",
       "      <th>month</th>\n",
       "      <th>operating_systems</th>\n",
       "      <th>browser</th>\n",
       "      <th>region</th>\n",
       "      <th>traffic_type</th>\n",
       "      <th>weekend</th>\n",
       "      <th>revenue</th>\n",
       "      <th>visitor_type_new_visitor</th>\n",
       "      <th>visitor_type_other</th>\n",
       "      <th>visitor_type_returning_visitor</th>\n",
       "    </tr>\n",
       "  </thead>\n",
       "  <tbody>\n",
       "    <tr>\n",
       "      <th>5960</th>\n",
       "      <td>0.000000</td>\n",
       "      <td>0.000000</td>\n",
       "      <td>0.000000</td>\n",
       "      <td>0.000000</td>\n",
       "      <td>0.085973</td>\n",
       "      <td>0.130832</td>\n",
       "      <td>0.00</td>\n",
       "      <td>0.035088</td>\n",
       "      <td>0.000000</td>\n",
       "      <td>0.0</td>\n",
       "      <td>0.6</td>\n",
       "      <td>0.142857</td>\n",
       "      <td>0.250000</td>\n",
       "      <td>0.25</td>\n",
       "      <td>0.052632</td>\n",
       "      <td>0.0</td>\n",
       "      <td>0.0</td>\n",
       "      <td>0.0</td>\n",
       "      <td>0.0</td>\n",
       "      <td>1.0</td>\n",
       "    </tr>\n",
       "    <tr>\n",
       "      <th>7662</th>\n",
       "      <td>0.214286</td>\n",
       "      <td>0.325502</td>\n",
       "      <td>0.000000</td>\n",
       "      <td>0.000000</td>\n",
       "      <td>0.049774</td>\n",
       "      <td>0.044316</td>\n",
       "      <td>0.00</td>\n",
       "      <td>0.038462</td>\n",
       "      <td>0.206907</td>\n",
       "      <td>0.0</td>\n",
       "      <td>0.8</td>\n",
       "      <td>0.142857</td>\n",
       "      <td>0.083333</td>\n",
       "      <td>0.00</td>\n",
       "      <td>0.052632</td>\n",
       "      <td>0.0</td>\n",
       "      <td>1.0</td>\n",
       "      <td>0.0</td>\n",
       "      <td>0.0</td>\n",
       "      <td>1.0</td>\n",
       "    </tr>\n",
       "    <tr>\n",
       "      <th>200</th>\n",
       "      <td>0.000000</td>\n",
       "      <td>0.000000</td>\n",
       "      <td>0.000000</td>\n",
       "      <td>0.000000</td>\n",
       "      <td>0.013575</td>\n",
       "      <td>0.015337</td>\n",
       "      <td>0.00</td>\n",
       "      <td>0.444444</td>\n",
       "      <td>0.000000</td>\n",
       "      <td>0.0</td>\n",
       "      <td>0.1</td>\n",
       "      <td>0.000000</td>\n",
       "      <td>0.083333</td>\n",
       "      <td>0.00</td>\n",
       "      <td>0.368421</td>\n",
       "      <td>0.0</td>\n",
       "      <td>0.0</td>\n",
       "      <td>0.0</td>\n",
       "      <td>0.0</td>\n",
       "      <td>1.0</td>\n",
       "    </tr>\n",
       "    <tr>\n",
       "      <th>10351</th>\n",
       "      <td>0.000000</td>\n",
       "      <td>0.000000</td>\n",
       "      <td>0.000000</td>\n",
       "      <td>0.000000</td>\n",
       "      <td>0.122172</td>\n",
       "      <td>0.072464</td>\n",
       "      <td>0.08</td>\n",
       "      <td>0.100000</td>\n",
       "      <td>0.000000</td>\n",
       "      <td>0.0</td>\n",
       "      <td>0.9</td>\n",
       "      <td>0.142857</td>\n",
       "      <td>0.083333</td>\n",
       "      <td>0.25</td>\n",
       "      <td>0.000000</td>\n",
       "      <td>1.0</td>\n",
       "      <td>0.0</td>\n",
       "      <td>0.0</td>\n",
       "      <td>0.0</td>\n",
       "      <td>1.0</td>\n",
       "    </tr>\n",
       "    <tr>\n",
       "      <th>1153</th>\n",
       "      <td>0.142857</td>\n",
       "      <td>0.062000</td>\n",
       "      <td>0.166667</td>\n",
       "      <td>0.024456</td>\n",
       "      <td>0.081448</td>\n",
       "      <td>0.144986</td>\n",
       "      <td>0.00</td>\n",
       "      <td>0.047619</td>\n",
       "      <td>0.000000</td>\n",
       "      <td>0.0</td>\n",
       "      <td>0.1</td>\n",
       "      <td>0.142857</td>\n",
       "      <td>0.083333</td>\n",
       "      <td>0.00</td>\n",
       "      <td>0.052632</td>\n",
       "      <td>0.0</td>\n",
       "      <td>0.0</td>\n",
       "      <td>1.0</td>\n",
       "      <td>0.0</td>\n",
       "      <td>0.0</td>\n",
       "    </tr>\n",
       "  </tbody>\n",
       "</table>\n",
       "</div>"
      ],
      "text/plain": [
       "          admin  admin_duration      info  info_duration  productrelated  \\\n",
       "5960   0.000000        0.000000  0.000000       0.000000        0.085973   \n",
       "7662   0.214286        0.325502  0.000000       0.000000        0.049774   \n",
       "200    0.000000        0.000000  0.000000       0.000000        0.013575   \n",
       "10351  0.000000        0.000000  0.000000       0.000000        0.122172   \n",
       "1153   0.142857        0.062000  0.166667       0.024456        0.081448   \n",
       "\n",
       "       productrelated_duration  bounce_rates  exit_rates  page_values  \\\n",
       "5960                  0.130832          0.00    0.035088     0.000000   \n",
       "7662                  0.044316          0.00    0.038462     0.206907   \n",
       "200                   0.015337          0.00    0.444444     0.000000   \n",
       "10351                 0.072464          0.08    0.100000     0.000000   \n",
       "1153                  0.144986          0.00    0.047619     0.000000   \n",
       "\n",
       "       special_day  month  operating_systems   browser  region  traffic_type  \\\n",
       "5960           0.0    0.6           0.142857  0.250000    0.25      0.052632   \n",
       "7662           0.0    0.8           0.142857  0.083333    0.00      0.052632   \n",
       "200            0.0    0.1           0.000000  0.083333    0.00      0.368421   \n",
       "10351          0.0    0.9           0.142857  0.083333    0.25      0.000000   \n",
       "1153           0.0    0.1           0.142857  0.083333    0.00      0.052632   \n",
       "\n",
       "       weekend  revenue  visitor_type_new_visitor  visitor_type_other  \\\n",
       "5960       0.0      0.0                       0.0                 0.0   \n",
       "7662       0.0      1.0                       0.0                 0.0   \n",
       "200        0.0      0.0                       0.0                 0.0   \n",
       "10351      1.0      0.0                       0.0                 0.0   \n",
       "1153       0.0      0.0                       1.0                 0.0   \n",
       "\n",
       "       visitor_type_returning_visitor  \n",
       "5960                              1.0  \n",
       "7662                              1.0  \n",
       "200                               1.0  \n",
       "10351                             1.0  \n",
       "1153                              0.0  "
      ]
     },
     "execution_count": 207,
     "metadata": {},
     "output_type": "execute_result"
    }
   ],
   "source": [
    "from sklearn.preprocessing import MinMaxScaler\n",
    "\n",
    "# Initialize scaler\n",
    "scaler = MinMaxScaler()\n",
    "\n",
    "# Normalize columns\n",
    "df = pd.DataFrame(scaler.fit_transform(df), columns=df.columns)\n",
    "\n",
    "# Show final dataframe for modeling\n",
    "df.sample(5, random_state=42)"
   ]
  },
  {
   "cell_type": "markdown",
   "id": "8ed58baf",
   "metadata": {},
   "source": [
    "The data is now ready for modeling.\n",
    "\n",
    "# Task 3.5\n",
    "<i>Formulate two questions that can be answered by performing a clustering analysis using the k-means.</i>\n",
    "\n",
    "<b>Question 1:</b> How can we group user behaviors based on the metrics available?</b> <br>\n",
    "<b>Question 2:</b> Which customer segments are most likely to make a purchase?</b>\n",
    "\n",
    "# Task 3.6\n",
    "<i>Use the elbow method to find the optimal number of clusters for your chosen dataset. Justify your chosen (final) value of k.</i>\n",
    "\n",
    "As previously detailed, the elbow method involves running k-means clustering on various values of k, plotting the WCSS (Within-Cluster Sum of Squares) against k, and selecting the value of k where the rate of decrease sharply declines, the \"elbow point\". We will now create this plot and identify the elbow point. \n",
    "\n",
    "<b>NOTE:</b> Around 300 NaN values got reintroduced to the dataset through one of the processing steps I performed, so I decided to simply drop these for simplicity."
   ]
  },
  {
   "cell_type": "code",
   "execution_count": 208,
   "id": "6cfcd800",
   "metadata": {},
   "outputs": [
    {
     "name": "stdout",
     "output_type": "stream",
     "text": [
      "Number of rows with missing values: 285\n",
      "Number of rows with missing values after dropping: 0\n"
     ]
    }
   ],
   "source": [
    "# Find number of rows with missing values\n",
    "print(f\"Number of rows with missing values: {df.isna().any(axis=1).sum()}\")\n",
    "\n",
    "# Drop rows with missing values\n",
    "df = df.dropna()\n",
    "print(f\"Number of rows with missing values after dropping: {df.isna().any(axis=1).sum()}\")"
   ]
  },
  {
   "cell_type": "code",
   "execution_count": 185,
   "id": "03b578a6",
   "metadata": {
    "scrolled": false
   },
   "outputs": [
    {
     "data": {
      "image/png": "[encoded data removed]",
      "text/plain": [
       "<Figure size 1000x600 with 1 Axes>"
      ]
     },
     "metadata": {},
     "output_type": "display_data"
    }
   ],
   "source": [
    "from sklearn.cluster import KMeans\n",
    "import matplotlib.pyplot as plt\n",
    "\n",
    "# Calculate WCSS for various values of k\n",
    "wcss = []\n",
    "k_values = range(1, 11)\n",
    "for k in k_values: \n",
    "    kmeans = KMeans(n_clusters=k, random_state=42)\n",
    "    kmeans.fit(df)\n",
    "    wcss.append(kmeans.inertia_)\n",
    "    \n",
    "# Plot elbow graph\n",
    "plt.figure(figsize=(10, 6))\n",
    "plt.plot(k_values, wcss, \"bx-\")\n",
    "plt.xlabel(\"Number of Clusters (k)\")\n",
    "plt.ylabel(\"WCSS (Inertia)\")\n",
    "plt.title(\"Elbow Method Graph to Find Optimal k\")\n",
    "plt.show()"
   ]
  },
  {
   "cell_type": "markdown",
   "id": "8fae38f8",
   "metadata": {},
   "source": [
    "The sharpest flattening out of the graph happens at $k = 4$, making this the clearest elbow point present. Thus, the optimal number of clusters is 4.\n",
    "\n",
    "# Task 3.7\n",
    "<i>Perform k-means analysis. Explain the intuition behind each mathematical step.</i>\n",
    "\n",
    "We will now initialize and run our k-means model with $k = 4$. The mathematical intuition behind these steps has already been explained at length earlier in the document."
   ]
  },
  {
   "cell_type": "code",
   "execution_count": 186,
   "id": "2dcc6519",
   "metadata": {},
   "outputs": [],
   "source": [
    "# Initialize cluster count\n",
    "k = 4\n",
    "\n",
    "# Perform k-means clustering\n",
    "kmeans = KMeans(n_clusters=4, init=\"k-means++\", random_state=42)\n",
    "kmeans.fit(df)\n",
    "\n",
    "# Find initial centroids\n",
    "initial_centroids = kmeans.cluster_centers_\n",
    "\n",
    "# Assign data points to their nearest centroid\n",
    "labels = kmeans.labels_\n",
    "\n",
    "# Update centroids to mean of assigned points\n",
    "new_centroids = kmeans.cluster_centers_\n",
    "\n",
    "# Finalize centroids and cluster assignments\n",
    "final_centroids = kmeans.cluster_centers_\n",
    "final_labels = kmeans.labels_"
   ]
  },
  {
   "cell_type": "markdown",
   "id": "3c6b4fc7",
   "metadata": {},
   "source": [
    "Now that the clusters have been established, we will visualize them. PCA is required to reduce the dimensionality of the data down to 2D for visualization purposes."
   ]
  },
  {
   "cell_type": "code",
   "execution_count": 187,
   "id": "e7b6bbe1",
   "metadata": {},
   "outputs": [
    {
     "data": {
      "image/png": "[encoded data removed]",
      "text/plain": [
       "<Figure size 1000x600 with 1 Axes>"
      ]
     },
     "metadata": {},
     "output_type": "display_data"
    }
   ],
   "source": [
    "from sklearn.decomposition import PCA\n",
    "\n",
    "# Reduce the dimensionality to 2D for visualization\n",
    "pca = PCA(n_components=2)\n",
    "df_pca = pca.fit_transform(df)\n",
    "\n",
    "# Plot the clusters\n",
    "plt.figure(figsize=(10, 6))\n",
    "plt.scatter(df_pca[:, 0], df_pca[:, 1], c=final_labels, cmap='viridis', marker='o')\n",
    "plt.scatter(final_centroids[:, 0], final_centroids[:, 1], s=300, c='red', marker='x')\n",
    "plt.xlabel('PCA Component 1')\n",
    "plt.ylabel('PCA Component 2')\n",
    "plt.title('K-Means Clustering')\n",
    "plt.show()"
   ]
  },
  {
   "cell_type": "markdown",
   "id": "80e836dd",
   "metadata": {},
   "source": [
    "# Task 3.8\n",
    "<i>Interpret the results in the context of the questions you asked.</i>\n",
    "\n",
    "The centroids are quite far away from the apparent centers of their respective clusters, indicating a serious issue with the k-means algorithm implementation. However, changing initialization settings and using a different value of $k$ did not fix the issue. Unfortunately, this means the results have limited usefulness in customer segmentation.\n",
    "\n",
    "# Task 3.9\n",
    "<i>Discuss how you minimized the variation within the clusters.</i>\n",
    "\n",
    "I minimized the variation between clusters by starting with the optimal number of clusters $k$, assigning each data point to its optimal cluster, and iteratively recalculating cluster centroids until the inertia (within-cluster sum of squares) was minimized.\n",
    "\n",
    "# Task 3.10\n",
    "<i>Validate your model. Then, explain the results.</i>\n",
    "\n",
    "The most straightforward way to validate the k-means model is using the silhouette score, which measures how similar each data point is to its own cluster versus other clusters. We can use the average silhouette score from all clusters to determine how effective the model is at grouping online shopping sessions. This score can be interpreted as follows: \n",
    "\n",
    "* <b>Close to 1:</b> The clusters are well-fit to the data.\n",
    "* <b>Close to 0:</b> Some of the clusters are overlapping.\n",
    "* <b>Close to -1:</b> The cluster assignments are wrong."
   ]
  },
  {
   "cell_type": "code",
   "execution_count": 188,
   "id": "7208d7d8",
   "metadata": {},
   "outputs": [
    {
     "name": "stdout",
     "output_type": "stream",
     "text": [
      "Silhouette Score: 0.24\n"
     ]
    }
   ],
   "source": [
    "from sklearn.metrics import silhouette_score\n",
    "\n",
    "# Find average silhouette score for all data points\n",
    "avg_silhouette_score = silhouette_score(df, final_labels)\n",
    "print(f\"Silhouette Score: {round(avg_silhouette_score, 2)}\")"
   ]
  },
  {
   "cell_type": "markdown",
   "id": "8657a401",
   "metadata": {},
   "source": [
    "The score is close to 0, indicating that there is some overlap between the clusters. This means the model's utility in separating customers into distinct groups is limited, as it is unclear which group many of the online shopping sessions belong to. Ideally, each data point would belong to exactly one cluster, indicating its similarity to others in its cluster alone.\n",
    "\n",
    "We can also use a metric called the Davies-Bouldin Index to validate the quality of the clusters. It measures the average ratio of intra-cluster distances to inter-cluster distances, with lower values suggesting better clustering."
   ]
  },
  {
   "cell_type": "code",
   "execution_count": 189,
   "id": "3593e4d9",
   "metadata": {},
   "outputs": [
    {
     "name": "stdout",
     "output_type": "stream",
     "text": [
      "Davies-Bouldin Index: 1.72\n"
     ]
    }
   ],
   "source": [
    "from sklearn.metrics import davies_bouldin_score\n",
    "\n",
    "# Recompute labels\n",
    "labels = kmeans.fit_predict(df)\n",
    "\n",
    "# Compute Davies-Bouldin Index\n",
    "db_index = davies_bouldin_score(df, labels)\n",
    "print(f\"Davies-Bouldin Index: {round(db_index, 2)}\")"
   ]
  },
  {
   "cell_type": "markdown",
   "id": "c20dfecc",
   "metadata": {},
   "source": [
    "This DBI indicates that the clusters are of moderate quality. It is not low enough to suggest highly-effective clustering, but it is not absurdly high either. \n",
    "\n",
    "# Task 3.11\n",
    "<i>Include all mathematical formulas used and graphs representing the final outcomes.</i>\n",
    "\n",
    "All relevant formulas and graphs have been included in their respective tasks."
   ]
  },
  {
   "attachments": {},
   "cell_type": "markdown",
   "id": "32e211c2",
   "metadata": {},
   "source": [
    "# References\n",
    "GeeksforGeeks. (2023, May 10). Elbow Method for optimal value of k in KMeans. GeeksforGeeks. https://www.geeksforgeeks.org/elbow-method-for-optimal-value-of-k-in-kmeans/ <br>\n",
    "editor. (2023, March 7). Assumptions can ruin your k-means clusters. Decision Mechanics. https://decisionmechanics.com/assumptions-can-ruin-your-k-means-clusters/ <br>\n",
    "ChatGPT. (n.d.). https://chat.openai.com/ <br>\n",
    "Microsoft Copilot in Bing. (n.d.). https://www.bing.com/chat?form=NTPCHB![image.png](attachment:image.png)"
   ]
  }
 ],
 "metadata": {
  "kernelspec": {
   "display_name": "Python 3 (ipykernel)",
   "language": "python",
   "name": "python3"
  },
  "language_info": {
   "codemirror_mode": {
    "name": "ipython",
    "version": 3
   },
   "file_extension": ".py",
   "mimetype": "text/x-python",
   "name": "python",
   "nbconvert_exporter": "python",
   "pygments_lexer": "ipython3",
   "version": "3.11.5"
  }
 },
 "nbformat": 4,
 "nbformat_minor": 5
}
